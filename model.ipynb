{
 "cells": [
  {
   "cell_type": "code",
   "execution_count": 2,
   "metadata": {},
   "outputs": [],
   "source": [
    "import pandas as pd\n",
    "import numpy as np\n",
    "import matplotlib\n",
    "\n",
    "from sklearn.model_selection import train_test_split\n",
    "from sklearn.preprocessing import MinMaxScaler\n",
    "from sklearn.linear_model import LogisticRegression\n",
    "from sklearn.tree import DecisionTreeClassifier\n",
    "from sklearn import neighbors\n",
    "from sklearn.metrics import accuracy_score, precision_score, recall_score\n",
    "\n",
    "import statsmodels.api as sm\n",
    "import matplotlib.pyplot as plt\n",
    "import sklearn.neighbors as skl_nb"
   ]
  },
  {
   "cell_type": "code",
   "execution_count": 3,
   "metadata": {},
   "outputs": [],
   "source": [
    "data = pd.read_csv('result.csv')"
   ]
  },
  {
   "cell_type": "code",
   "execution_count": 9,
   "metadata": {},
   "outputs": [
    {
     "data": {
      "text/plain": [
       "(12604600, 3)"
      ]
     },
     "execution_count": 9,
     "metadata": {},
     "output_type": "execute_result"
    }
   ],
   "source": [
    "data = data.rename(columns={'customer': 'customer', 'merchant': 'merchant', 'predictive_score':'predicted_score'})\n",
    "data.shape"
   ]
  },
  {
   "cell_type": "code",
   "execution_count": 12,
   "metadata": {},
   "outputs": [
    {
     "data": {
      "text/html": [
       "<div>\n",
       "<style scoped>\n",
       "    .dataframe tbody tr th:only-of-type {\n",
       "        vertical-align: middle;\n",
       "    }\n",
       "\n",
       "    .dataframe tbody tr th {\n",
       "        vertical-align: top;\n",
       "    }\n",
       "\n",
       "    .dataframe thead th {\n",
       "        text-align: right;\n",
       "    }\n",
       "</style>\n",
       "<table border=\"1\" class=\"dataframe\">\n",
       "  <thead>\n",
       "    <tr style=\"text-align: right;\">\n",
       "      <th></th>\n",
       "      <th>customer</th>\n",
       "      <th>merchant</th>\n",
       "      <th>predicted_score</th>\n",
       "    </tr>\n",
       "  </thead>\n",
       "  <tbody>\n",
       "    <tr>\n",
       "      <th>12604595</th>\n",
       "      <td>581658</td>\n",
       "      <td>1685038</td>\n",
       "      <td>-0.044694</td>\n",
       "    </tr>\n",
       "    <tr>\n",
       "      <th>12604596</th>\n",
       "      <td>559729</td>\n",
       "      <td>1741912</td>\n",
       "      <td>-0.056826</td>\n",
       "    </tr>\n",
       "    <tr>\n",
       "      <th>12604597</th>\n",
       "      <td>594817</td>\n",
       "      <td>1414695</td>\n",
       "      <td>-0.045460</td>\n",
       "    </tr>\n",
       "    <tr>\n",
       "      <th>12604598</th>\n",
       "      <td>597078</td>\n",
       "      <td>1414861</td>\n",
       "      <td>-0.094556</td>\n",
       "    </tr>\n",
       "    <tr>\n",
       "      <th>12604599</th>\n",
       "      <td>597078</td>\n",
       "      <td>2047947</td>\n",
       "      <td>-0.110023</td>\n",
       "    </tr>\n",
       "  </tbody>\n",
       "</table>\n",
       "</div>"
      ],
      "text/plain": [
       "          customer  merchant  predicted_score\n",
       "12604595    581658   1685038        -0.044694\n",
       "12604596    559729   1741912        -0.056826\n",
       "12604597    594817   1414695        -0.045460\n",
       "12604598    597078   1414861        -0.094556\n",
       "12604599    597078   2047947        -0.110023"
      ]
     },
     "execution_count": 12,
     "metadata": {},
     "output_type": "execute_result"
    }
   ],
   "source": [
    "data.tail()"
   ]
  },
  {
   "cell_type": "code",
   "execution_count": 6,
   "metadata": {},
   "outputs": [],
   "source": [
    "data.to_csv('result_updated.csv',index = False)"
   ]
  },
  {
   "cell_type": "code",
   "execution_count": 7,
   "metadata": {},
   "outputs": [],
   "source": [
    "data2 = pd.read_csv('result_updated.csv')"
   ]
  },
  {
   "cell_type": "code",
   "execution_count": 13,
   "metadata": {},
   "outputs": [
    {
     "data": {
      "text/html": [
       "<div>\n",
       "<style scoped>\n",
       "    .dataframe tbody tr th:only-of-type {\n",
       "        vertical-align: middle;\n",
       "    }\n",
       "\n",
       "    .dataframe tbody tr th {\n",
       "        vertical-align: top;\n",
       "    }\n",
       "\n",
       "    .dataframe thead th {\n",
       "        text-align: right;\n",
       "    }\n",
       "</style>\n",
       "<table border=\"1\" class=\"dataframe\">\n",
       "  <thead>\n",
       "    <tr style=\"text-align: right;\">\n",
       "      <th></th>\n",
       "      <th>customer</th>\n",
       "      <th>merchant</th>\n",
       "      <th>predicted_score</th>\n",
       "    </tr>\n",
       "  </thead>\n",
       "  <tbody>\n",
       "    <tr>\n",
       "      <th>12604595</th>\n",
       "      <td>581658</td>\n",
       "      <td>1685038</td>\n",
       "      <td>-0.044694</td>\n",
       "    </tr>\n",
       "    <tr>\n",
       "      <th>12604596</th>\n",
       "      <td>559729</td>\n",
       "      <td>1741912</td>\n",
       "      <td>-0.056826</td>\n",
       "    </tr>\n",
       "    <tr>\n",
       "      <th>12604597</th>\n",
       "      <td>594817</td>\n",
       "      <td>1414695</td>\n",
       "      <td>-0.045460</td>\n",
       "    </tr>\n",
       "    <tr>\n",
       "      <th>12604598</th>\n",
       "      <td>597078</td>\n",
       "      <td>1414861</td>\n",
       "      <td>-0.094556</td>\n",
       "    </tr>\n",
       "    <tr>\n",
       "      <th>12604599</th>\n",
       "      <td>597078</td>\n",
       "      <td>2047947</td>\n",
       "      <td>-0.110023</td>\n",
       "    </tr>\n",
       "  </tbody>\n",
       "</table>\n",
       "</div>"
      ],
      "text/plain": [
       "          customer  merchant  predicted_score\n",
       "12604595    581658   1685038        -0.044694\n",
       "12604596    559729   1741912        -0.056826\n",
       "12604597    594817   1414695        -0.045460\n",
       "12604598    597078   1414861        -0.094556\n",
       "12604599    597078   2047947        -0.110023"
      ]
     },
     "execution_count": 13,
     "metadata": {},
     "output_type": "execute_result"
    }
   ],
   "source": [
    "data2.tail()"
   ]
  },
  {
   "attachments": {},
   "cell_type": "markdown",
   "metadata": {},
   "source": [
    "# Data Preprocessing"
   ]
  },
  {
   "cell_type": "code",
   "execution_count": 3,
   "metadata": {},
   "outputs": [
    {
     "data": {
      "text/html": [
       "<div>\n",
       "<style scoped>\n",
       "    .dataframe tbody tr th:only-of-type {\n",
       "        vertical-align: middle;\n",
       "    }\n",
       "\n",
       "    .dataframe tbody tr th {\n",
       "        vertical-align: top;\n",
       "    }\n",
       "\n",
       "    .dataframe thead th {\n",
       "        text-align: right;\n",
       "    }\n",
       "</style>\n",
       "<table border=\"1\" class=\"dataframe\">\n",
       "  <thead>\n",
       "    <tr style=\"text-align: right;\">\n",
       "      <th></th>\n",
       "      <th>ind_recommended</th>\n",
       "      <th>activation</th>\n",
       "      <th>customer_digital_activity_04</th>\n",
       "      <th>customer_spend_01</th>\n",
       "      <th>customer_industry_spend_01</th>\n",
       "      <th>customer_industry_spend_02</th>\n",
       "      <th>customer_industry_spend_03</th>\n",
       "      <th>customer_industry_spend_04</th>\n",
       "      <th>customer_industry_spend_05</th>\n",
       "      <th>customer_spend_02</th>\n",
       "      <th>...</th>\n",
       "      <th>merchant_spend_09</th>\n",
       "      <th>merchant_profile_03</th>\n",
       "      <th>customer_digital_activity_01</th>\n",
       "      <th>merchant_spend_10</th>\n",
       "      <th>customer_profile_03</th>\n",
       "      <th>customer_digital_activity_02</th>\n",
       "      <th>customer_profile_04</th>\n",
       "      <th>distance_05</th>\n",
       "      <th>customer</th>\n",
       "      <th>merchant</th>\n",
       "    </tr>\n",
       "  </thead>\n",
       "  <tbody>\n",
       "    <tr>\n",
       "      <th>0</th>\n",
       "      <td>0</td>\n",
       "      <td>0</td>\n",
       "      <td>NaN</td>\n",
       "      <td>107.215862</td>\n",
       "      <td>26.686594</td>\n",
       "      <td>74.0</td>\n",
       "      <td>3682.75</td>\n",
       "      <td>138.0</td>\n",
       "      <td>111.0</td>\n",
       "      <td>14.0</td>\n",
       "      <td>...</td>\n",
       "      <td>49466.0</td>\n",
       "      <td>65923.0</td>\n",
       "      <td>0.000000</td>\n",
       "      <td>29.180</td>\n",
       "      <td>58.434969</td>\n",
       "      <td>32.500000</td>\n",
       "      <td>86.0</td>\n",
       "      <td>15.856826</td>\n",
       "      <td>168972</td>\n",
       "      <td>152285</td>\n",
       "    </tr>\n",
       "    <tr>\n",
       "      <th>1</th>\n",
       "      <td>0</td>\n",
       "      <td>0</td>\n",
       "      <td>NaN</td>\n",
       "      <td>35.552000</td>\n",
       "      <td>50.928261</td>\n",
       "      <td>3.0</td>\n",
       "      <td>1171.35</td>\n",
       "      <td>23.0</td>\n",
       "      <td>17.0</td>\n",
       "      <td>2.0</td>\n",
       "      <td>...</td>\n",
       "      <td>3638.0</td>\n",
       "      <td>7801.0</td>\n",
       "      <td>0.419355</td>\n",
       "      <td>28.465</td>\n",
       "      <td>5.392089</td>\n",
       "      <td>7.000000</td>\n",
       "      <td>125.0</td>\n",
       "      <td>6.998555</td>\n",
       "      <td>212404</td>\n",
       "      <td>39032</td>\n",
       "    </tr>\n",
       "    <tr>\n",
       "      <th>2</th>\n",
       "      <td>0</td>\n",
       "      <td>0</td>\n",
       "      <td>NaN</td>\n",
       "      <td>31.623103</td>\n",
       "      <td>48.837872</td>\n",
       "      <td>19.0</td>\n",
       "      <td>2295.38</td>\n",
       "      <td>47.0</td>\n",
       "      <td>42.0</td>\n",
       "      <td>11.0</td>\n",
       "      <td>...</td>\n",
       "      <td>3912.0</td>\n",
       "      <td>12868.0</td>\n",
       "      <td>0.836364</td>\n",
       "      <td>421.500</td>\n",
       "      <td>33.780445</td>\n",
       "      <td>0.000000</td>\n",
       "      <td>180.0</td>\n",
       "      <td>1.753009</td>\n",
       "      <td>225178</td>\n",
       "      <td>7439</td>\n",
       "    </tr>\n",
       "    <tr>\n",
       "      <th>3</th>\n",
       "      <td>0</td>\n",
       "      <td>0</td>\n",
       "      <td>NaN</td>\n",
       "      <td>112.277391</td>\n",
       "      <td>NaN</td>\n",
       "      <td>NaN</td>\n",
       "      <td>NaN</td>\n",
       "      <td>NaN</td>\n",
       "      <td>NaN</td>\n",
       "      <td>16.0</td>\n",
       "      <td>...</td>\n",
       "      <td>28919.0</td>\n",
       "      <td>23553.0</td>\n",
       "      <td>0.952381</td>\n",
       "      <td>50.000</td>\n",
       "      <td>37.340085</td>\n",
       "      <td>28.666667</td>\n",
       "      <td>134.0</td>\n",
       "      <td>9.000063</td>\n",
       "      <td>183948</td>\n",
       "      <td>485069</td>\n",
       "    </tr>\n",
       "    <tr>\n",
       "      <th>4</th>\n",
       "      <td>1</td>\n",
       "      <td>0</td>\n",
       "      <td>NaN</td>\n",
       "      <td>448.427273</td>\n",
       "      <td>NaN</td>\n",
       "      <td>NaN</td>\n",
       "      <td>NaN</td>\n",
       "      <td>NaN</td>\n",
       "      <td>NaN</td>\n",
       "      <td>5.0</td>\n",
       "      <td>...</td>\n",
       "      <td>1086.0</td>\n",
       "      <td>308.0</td>\n",
       "      <td>0.754386</td>\n",
       "      <td>69.509</td>\n",
       "      <td>77.794164</td>\n",
       "      <td>15.000000</td>\n",
       "      <td>114.0</td>\n",
       "      <td>1.767939</td>\n",
       "      <td>210107</td>\n",
       "      <td>536004</td>\n",
       "    </tr>\n",
       "  </tbody>\n",
       "</table>\n",
       "<p>5 rows × 71 columns</p>\n",
       "</div>"
      ],
      "text/plain": [
       "   ind_recommended  activation  customer_digital_activity_04   \n",
       "0                0           0                           NaN  \\\n",
       "1                0           0                           NaN   \n",
       "2                0           0                           NaN   \n",
       "3                0           0                           NaN   \n",
       "4                1           0                           NaN   \n",
       "\n",
       "   customer_spend_01  customer_industry_spend_01  customer_industry_spend_02   \n",
       "0         107.215862                   26.686594                        74.0  \\\n",
       "1          35.552000                   50.928261                         3.0   \n",
       "2          31.623103                   48.837872                        19.0   \n",
       "3         112.277391                         NaN                         NaN   \n",
       "4         448.427273                         NaN                         NaN   \n",
       "\n",
       "   customer_industry_spend_03  customer_industry_spend_04   \n",
       "0                     3682.75                       138.0  \\\n",
       "1                     1171.35                        23.0   \n",
       "2                     2295.38                        47.0   \n",
       "3                         NaN                         NaN   \n",
       "4                         NaN                         NaN   \n",
       "\n",
       "   customer_industry_spend_05  customer_spend_02  ...  merchant_spend_09   \n",
       "0                       111.0               14.0  ...            49466.0  \\\n",
       "1                        17.0                2.0  ...             3638.0   \n",
       "2                        42.0               11.0  ...             3912.0   \n",
       "3                         NaN               16.0  ...            28919.0   \n",
       "4                         NaN                5.0  ...             1086.0   \n",
       "\n",
       "   merchant_profile_03  customer_digital_activity_01  merchant_spend_10   \n",
       "0              65923.0                      0.000000             29.180  \\\n",
       "1               7801.0                      0.419355             28.465   \n",
       "2              12868.0                      0.836364            421.500   \n",
       "3              23553.0                      0.952381             50.000   \n",
       "4                308.0                      0.754386             69.509   \n",
       "\n",
       "   customer_profile_03  customer_digital_activity_02  customer_profile_04   \n",
       "0            58.434969                     32.500000                 86.0  \\\n",
       "1             5.392089                      7.000000                125.0   \n",
       "2            33.780445                      0.000000                180.0   \n",
       "3            37.340085                     28.666667                134.0   \n",
       "4            77.794164                     15.000000                114.0   \n",
       "\n",
       "   distance_05  customer  merchant  \n",
       "0    15.856826    168972    152285  \n",
       "1     6.998555    212404     39032  \n",
       "2     1.753009    225178      7439  \n",
       "3     9.000063    183948    485069  \n",
       "4     1.767939    210107    536004  \n",
       "\n",
       "[5 rows x 71 columns]"
      ]
     },
     "execution_count": 3,
     "metadata": {},
     "output_type": "execute_result"
    }
   ],
   "source": [
    "data = pd.read_csv('training.csv')\n",
    "data.head()"
   ]
  },
  {
   "cell_type": "code",
   "execution_count": 4,
   "metadata": {},
   "outputs": [],
   "source": [
    "data_clean = data.dropna(axis=1, thresh = data.shape[0]/2)\n",
    "data_clean = data_clean.fillna(0)"
   ]
  },
  {
   "cell_type": "code",
   "execution_count": 5,
   "metadata": {},
   "outputs": [
    {
     "data": {
      "text/plain": [
       "['activation',\n",
       " 'customer',\n",
       " 'customer_digital_activity_01',\n",
       " 'customer_digital_activity_02',\n",
       " 'customer_digital_activity_21',\n",
       " 'customer_digital_activity_22',\n",
       " 'customer_industry_spend_01',\n",
       " 'customer_industry_spend_02',\n",
       " 'customer_industry_spend_03',\n",
       " 'customer_industry_spend_04',\n",
       " 'customer_industry_spend_05',\n",
       " 'customer_merchant_03',\n",
       " 'customer_profile_01',\n",
       " 'customer_profile_02',\n",
       " 'customer_profile_03',\n",
       " 'customer_profile_04',\n",
       " 'customer_spend_01',\n",
       " 'customer_spend_02',\n",
       " 'customer_spend_03',\n",
       " 'customer_spend_05',\n",
       " 'customer_spend_06',\n",
       " 'customer_spend_07',\n",
       " 'distance_04',\n",
       " 'distance_05',\n",
       " 'ind_recommended',\n",
       " 'merchant',\n",
       " 'merchant_profile_01',\n",
       " 'merchant_profile_02',\n",
       " 'merchant_profile_03',\n",
       " 'merchant_spend_01',\n",
       " 'merchant_spend_02',\n",
       " 'merchant_spend_03',\n",
       " 'merchant_spend_04',\n",
       " 'merchant_spend_05',\n",
       " 'merchant_spend_06',\n",
       " 'merchant_spend_07',\n",
       " 'merchant_spend_08',\n",
       " 'merchant_spend_09',\n",
       " 'merchant_spend_10']"
      ]
     },
     "execution_count": 5,
     "metadata": {},
     "output_type": "execute_result"
    }
   ],
   "source": [
    "sorted(list(data_clean.columns))"
   ]
  },
  {
   "cell_type": "code",
   "execution_count": 6,
   "metadata": {},
   "outputs": [
    {
     "data": {
      "text/html": [
       "<div>\n",
       "<style scoped>\n",
       "    .dataframe tbody tr th:only-of-type {\n",
       "        vertical-align: middle;\n",
       "    }\n",
       "\n",
       "    .dataframe tbody tr th {\n",
       "        vertical-align: top;\n",
       "    }\n",
       "\n",
       "    .dataframe thead th {\n",
       "        text-align: right;\n",
       "    }\n",
       "</style>\n",
       "<table border=\"1\" class=\"dataframe\">\n",
       "  <thead>\n",
       "    <tr style=\"text-align: right;\">\n",
       "      <th></th>\n",
       "      <th>ind_recommended</th>\n",
       "      <th>activation</th>\n",
       "      <th>customer_spend_01</th>\n",
       "      <th>customer_industry_spend_01</th>\n",
       "      <th>customer_industry_spend_02</th>\n",
       "      <th>customer_industry_spend_03</th>\n",
       "      <th>customer_industry_spend_04</th>\n",
       "      <th>customer_industry_spend_05</th>\n",
       "      <th>customer_spend_02</th>\n",
       "      <th>customer_spend_03</th>\n",
       "      <th>...</th>\n",
       "      <th>merchant_spend_09</th>\n",
       "      <th>merchant_profile_03</th>\n",
       "      <th>customer_digital_activity_01</th>\n",
       "      <th>merchant_spend_10</th>\n",
       "      <th>customer_profile_03</th>\n",
       "      <th>customer_digital_activity_02</th>\n",
       "      <th>customer_profile_04</th>\n",
       "      <th>distance_05</th>\n",
       "      <th>customer</th>\n",
       "      <th>merchant</th>\n",
       "    </tr>\n",
       "  </thead>\n",
       "  <tbody>\n",
       "    <tr>\n",
       "      <th>0</th>\n",
       "      <td>0</td>\n",
       "      <td>0</td>\n",
       "      <td>107.215862</td>\n",
       "      <td>26.686594</td>\n",
       "      <td>74.0</td>\n",
       "      <td>3682.75</td>\n",
       "      <td>138.0</td>\n",
       "      <td>111.0</td>\n",
       "      <td>14.0</td>\n",
       "      <td>133.0</td>\n",
       "      <td>...</td>\n",
       "      <td>49466.0</td>\n",
       "      <td>65923.0</td>\n",
       "      <td>0.000000</td>\n",
       "      <td>29.180000</td>\n",
       "      <td>58.434969</td>\n",
       "      <td>32.500000</td>\n",
       "      <td>86.0</td>\n",
       "      <td>15.856826</td>\n",
       "      <td>168972</td>\n",
       "      <td>152285</td>\n",
       "    </tr>\n",
       "    <tr>\n",
       "      <th>1</th>\n",
       "      <td>0</td>\n",
       "      <td>0</td>\n",
       "      <td>35.552000</td>\n",
       "      <td>50.928261</td>\n",
       "      <td>3.0</td>\n",
       "      <td>1171.35</td>\n",
       "      <td>23.0</td>\n",
       "      <td>17.0</td>\n",
       "      <td>2.0</td>\n",
       "      <td>8.0</td>\n",
       "      <td>...</td>\n",
       "      <td>3638.0</td>\n",
       "      <td>7801.0</td>\n",
       "      <td>0.419355</td>\n",
       "      <td>28.465000</td>\n",
       "      <td>5.392089</td>\n",
       "      <td>7.000000</td>\n",
       "      <td>125.0</td>\n",
       "      <td>6.998555</td>\n",
       "      <td>212404</td>\n",
       "      <td>39032</td>\n",
       "    </tr>\n",
       "    <tr>\n",
       "      <th>2</th>\n",
       "      <td>0</td>\n",
       "      <td>0</td>\n",
       "      <td>31.623103</td>\n",
       "      <td>48.837872</td>\n",
       "      <td>19.0</td>\n",
       "      <td>2295.38</td>\n",
       "      <td>47.0</td>\n",
       "      <td>42.0</td>\n",
       "      <td>11.0</td>\n",
       "      <td>62.0</td>\n",
       "      <td>...</td>\n",
       "      <td>3912.0</td>\n",
       "      <td>12868.0</td>\n",
       "      <td>0.836364</td>\n",
       "      <td>421.500000</td>\n",
       "      <td>33.780445</td>\n",
       "      <td>0.000000</td>\n",
       "      <td>180.0</td>\n",
       "      <td>1.753009</td>\n",
       "      <td>225178</td>\n",
       "      <td>7439</td>\n",
       "    </tr>\n",
       "    <tr>\n",
       "      <th>3</th>\n",
       "      <td>0</td>\n",
       "      <td>0</td>\n",
       "      <td>112.277391</td>\n",
       "      <td>0.000000</td>\n",
       "      <td>0.0</td>\n",
       "      <td>0.00</td>\n",
       "      <td>0.0</td>\n",
       "      <td>0.0</td>\n",
       "      <td>16.0</td>\n",
       "      <td>33.0</td>\n",
       "      <td>...</td>\n",
       "      <td>28919.0</td>\n",
       "      <td>23553.0</td>\n",
       "      <td>0.952381</td>\n",
       "      <td>50.000000</td>\n",
       "      <td>37.340085</td>\n",
       "      <td>28.666667</td>\n",
       "      <td>134.0</td>\n",
       "      <td>9.000063</td>\n",
       "      <td>183948</td>\n",
       "      <td>485069</td>\n",
       "    </tr>\n",
       "    <tr>\n",
       "      <th>4</th>\n",
       "      <td>1</td>\n",
       "      <td>0</td>\n",
       "      <td>448.427273</td>\n",
       "      <td>0.000000</td>\n",
       "      <td>0.0</td>\n",
       "      <td>0.00</td>\n",
       "      <td>0.0</td>\n",
       "      <td>0.0</td>\n",
       "      <td>5.0</td>\n",
       "      <td>8.0</td>\n",
       "      <td>...</td>\n",
       "      <td>1086.0</td>\n",
       "      <td>308.0</td>\n",
       "      <td>0.754386</td>\n",
       "      <td>69.509000</td>\n",
       "      <td>77.794164</td>\n",
       "      <td>15.000000</td>\n",
       "      <td>114.0</td>\n",
       "      <td>1.767939</td>\n",
       "      <td>210107</td>\n",
       "      <td>536004</td>\n",
       "    </tr>\n",
       "    <tr>\n",
       "      <th>5</th>\n",
       "      <td>0</td>\n",
       "      <td>0</td>\n",
       "      <td>81.858000</td>\n",
       "      <td>0.000000</td>\n",
       "      <td>0.0</td>\n",
       "      <td>0.00</td>\n",
       "      <td>0.0</td>\n",
       "      <td>0.0</td>\n",
       "      <td>9.0</td>\n",
       "      <td>72.0</td>\n",
       "      <td>...</td>\n",
       "      <td>20952.0</td>\n",
       "      <td>16692.0</td>\n",
       "      <td>0.212766</td>\n",
       "      <td>147.700000</td>\n",
       "      <td>73.403888</td>\n",
       "      <td>1.166667</td>\n",
       "      <td>80.0</td>\n",
       "      <td>1.366169</td>\n",
       "      <td>227362</td>\n",
       "      <td>419583</td>\n",
       "    </tr>\n",
       "    <tr>\n",
       "      <th>6</th>\n",
       "      <td>0</td>\n",
       "      <td>0</td>\n",
       "      <td>0.000000</td>\n",
       "      <td>0.000000</td>\n",
       "      <td>0.0</td>\n",
       "      <td>0.00</td>\n",
       "      <td>0.0</td>\n",
       "      <td>0.0</td>\n",
       "      <td>0.0</td>\n",
       "      <td>0.0</td>\n",
       "      <td>...</td>\n",
       "      <td>26611.0</td>\n",
       "      <td>24708.0</td>\n",
       "      <td>0.581818</td>\n",
       "      <td>23.010000</td>\n",
       "      <td>0.000000</td>\n",
       "      <td>0.000000</td>\n",
       "      <td>193.0</td>\n",
       "      <td>18.914194</td>\n",
       "      <td>401342</td>\n",
       "      <td>343074</td>\n",
       "    </tr>\n",
       "    <tr>\n",
       "      <th>7</th>\n",
       "      <td>0</td>\n",
       "      <td>0</td>\n",
       "      <td>45.241765</td>\n",
       "      <td>17.014430</td>\n",
       "      <td>69.0</td>\n",
       "      <td>2535.15</td>\n",
       "      <td>149.0</td>\n",
       "      <td>109.0</td>\n",
       "      <td>7.0</td>\n",
       "      <td>133.0</td>\n",
       "      <td>...</td>\n",
       "      <td>26181.0</td>\n",
       "      <td>73439.0</td>\n",
       "      <td>0.243243</td>\n",
       "      <td>40.640000</td>\n",
       "      <td>98.155236</td>\n",
       "      <td>46.833333</td>\n",
       "      <td>142.0</td>\n",
       "      <td>0.063262</td>\n",
       "      <td>308043</td>\n",
       "      <td>266191</td>\n",
       "    </tr>\n",
       "    <tr>\n",
       "      <th>8</th>\n",
       "      <td>0</td>\n",
       "      <td>0</td>\n",
       "      <td>18.223538</td>\n",
       "      <td>29.103333</td>\n",
       "      <td>7.0</td>\n",
       "      <td>261.93</td>\n",
       "      <td>9.0</td>\n",
       "      <td>6.0</td>\n",
       "      <td>10.0</td>\n",
       "      <td>43.0</td>\n",
       "      <td>...</td>\n",
       "      <td>4691.0</td>\n",
       "      <td>13314.0</td>\n",
       "      <td>0.000000</td>\n",
       "      <td>350.555556</td>\n",
       "      <td>24.006210</td>\n",
       "      <td>7.333333</td>\n",
       "      <td>186.0</td>\n",
       "      <td>1.542463</td>\n",
       "      <td>174487</td>\n",
       "      <td>522438</td>\n",
       "    </tr>\n",
       "    <tr>\n",
       "      <th>9</th>\n",
       "      <td>0</td>\n",
       "      <td>0</td>\n",
       "      <td>1400.000000</td>\n",
       "      <td>1035.125000</td>\n",
       "      <td>1.0</td>\n",
       "      <td>2070.25</td>\n",
       "      <td>2.0</td>\n",
       "      <td>2.0</td>\n",
       "      <td>1.0</td>\n",
       "      <td>1.0</td>\n",
       "      <td>...</td>\n",
       "      <td>2894.0</td>\n",
       "      <td>1212.0</td>\n",
       "      <td>0.238095</td>\n",
       "      <td>563.000000</td>\n",
       "      <td>18.565891</td>\n",
       "      <td>0.000000</td>\n",
       "      <td>79.0</td>\n",
       "      <td>2.830609</td>\n",
       "      <td>414842</td>\n",
       "      <td>143402</td>\n",
       "    </tr>\n",
       "  </tbody>\n",
       "</table>\n",
       "<p>10 rows × 39 columns</p>\n",
       "</div>"
      ],
      "text/plain": [
       "   ind_recommended  activation  customer_spend_01  customer_industry_spend_01   \n",
       "0                0           0         107.215862                   26.686594  \\\n",
       "1                0           0          35.552000                   50.928261   \n",
       "2                0           0          31.623103                   48.837872   \n",
       "3                0           0         112.277391                    0.000000   \n",
       "4                1           0         448.427273                    0.000000   \n",
       "5                0           0          81.858000                    0.000000   \n",
       "6                0           0           0.000000                    0.000000   \n",
       "7                0           0          45.241765                   17.014430   \n",
       "8                0           0          18.223538                   29.103333   \n",
       "9                0           0        1400.000000                 1035.125000   \n",
       "\n",
       "   customer_industry_spend_02  customer_industry_spend_03   \n",
       "0                        74.0                     3682.75  \\\n",
       "1                         3.0                     1171.35   \n",
       "2                        19.0                     2295.38   \n",
       "3                         0.0                        0.00   \n",
       "4                         0.0                        0.00   \n",
       "5                         0.0                        0.00   \n",
       "6                         0.0                        0.00   \n",
       "7                        69.0                     2535.15   \n",
       "8                         7.0                      261.93   \n",
       "9                         1.0                     2070.25   \n",
       "\n",
       "   customer_industry_spend_04  customer_industry_spend_05  customer_spend_02   \n",
       "0                       138.0                       111.0               14.0  \\\n",
       "1                        23.0                        17.0                2.0   \n",
       "2                        47.0                        42.0               11.0   \n",
       "3                         0.0                         0.0               16.0   \n",
       "4                         0.0                         0.0                5.0   \n",
       "5                         0.0                         0.0                9.0   \n",
       "6                         0.0                         0.0                0.0   \n",
       "7                       149.0                       109.0                7.0   \n",
       "8                         9.0                         6.0               10.0   \n",
       "9                         2.0                         2.0                1.0   \n",
       "\n",
       "   customer_spend_03  ...  merchant_spend_09  merchant_profile_03   \n",
       "0              133.0  ...            49466.0              65923.0  \\\n",
       "1                8.0  ...             3638.0               7801.0   \n",
       "2               62.0  ...             3912.0              12868.0   \n",
       "3               33.0  ...            28919.0              23553.0   \n",
       "4                8.0  ...             1086.0                308.0   \n",
       "5               72.0  ...            20952.0              16692.0   \n",
       "6                0.0  ...            26611.0              24708.0   \n",
       "7              133.0  ...            26181.0              73439.0   \n",
       "8               43.0  ...             4691.0              13314.0   \n",
       "9                1.0  ...             2894.0               1212.0   \n",
       "\n",
       "   customer_digital_activity_01  merchant_spend_10  customer_profile_03   \n",
       "0                      0.000000          29.180000            58.434969  \\\n",
       "1                      0.419355          28.465000             5.392089   \n",
       "2                      0.836364         421.500000            33.780445   \n",
       "3                      0.952381          50.000000            37.340085   \n",
       "4                      0.754386          69.509000            77.794164   \n",
       "5                      0.212766         147.700000            73.403888   \n",
       "6                      0.581818          23.010000             0.000000   \n",
       "7                      0.243243          40.640000            98.155236   \n",
       "8                      0.000000         350.555556            24.006210   \n",
       "9                      0.238095         563.000000            18.565891   \n",
       "\n",
       "   customer_digital_activity_02  customer_profile_04  distance_05  customer   \n",
       "0                     32.500000                 86.0    15.856826    168972  \\\n",
       "1                      7.000000                125.0     6.998555    212404   \n",
       "2                      0.000000                180.0     1.753009    225178   \n",
       "3                     28.666667                134.0     9.000063    183948   \n",
       "4                     15.000000                114.0     1.767939    210107   \n",
       "5                      1.166667                 80.0     1.366169    227362   \n",
       "6                      0.000000                193.0    18.914194    401342   \n",
       "7                     46.833333                142.0     0.063262    308043   \n",
       "8                      7.333333                186.0     1.542463    174487   \n",
       "9                      0.000000                 79.0     2.830609    414842   \n",
       "\n",
       "   merchant  \n",
       "0    152285  \n",
       "1     39032  \n",
       "2      7439  \n",
       "3    485069  \n",
       "4    536004  \n",
       "5    419583  \n",
       "6    343074  \n",
       "7    266191  \n",
       "8    522438  \n",
       "9    143402  \n",
       "\n",
       "[10 rows x 39 columns]"
      ]
     },
     "execution_count": 6,
     "metadata": {},
     "output_type": "execute_result"
    }
   ],
   "source": [
    "data_clean.head(n = 10)"
   ]
  },
  {
   "cell_type": "code",
   "execution_count": 7,
   "metadata": {},
   "outputs": [
    {
     "data": {
      "text/plain": [
       "{'whiskers': [<matplotlib.lines.Line2D at 0x169c834c0>,\n",
       "  <matplotlib.lines.Line2D at 0x169c83760>],\n",
       " 'caps': [<matplotlib.lines.Line2D at 0x169c83a00>,\n",
       "  <matplotlib.lines.Line2D at 0x169c83ca0>],\n",
       " 'boxes': [<matplotlib.lines.Line2D at 0x169c83220>],\n",
       " 'medians': [<matplotlib.lines.Line2D at 0x169c83f40>],\n",
       " 'fliers': [<matplotlib.lines.Line2D at 0x16c728220>],\n",
       " 'means': []}"
      ]
     },
     "execution_count": 7,
     "metadata": {},
     "output_type": "execute_result"
    },
    {
     "data": {
      "image/png": "[encoded data removed]",
      "text/plain": [
       "<Figure size 640x480 with 1 Axes>"
      ]
     },
     "metadata": {},
     "output_type": "display_data"
    }
   ],
   "source": [
    "# plt.hist(data_clean['customer_spend_01'], color='lightgreen', ec='black', bins=15)\n",
    "# plt.boxplot(data_clean['customer_spend_01'])\n",
    "plt.boxplot(data_clean['customer_spend_02'])"
   ]
  },
  {
   "cell_type": "code",
   "execution_count": 8,
   "metadata": {},
   "outputs": [],
   "source": [
    "columns = [ 'customer_digital_activity_01',\n",
    " 'customer_digital_activity_02',\n",
    " 'customer_digital_activity_21',\n",
    " 'customer_digital_activity_22',\n",
    " 'customer_industry_spend_01',\n",
    " 'customer_industry_spend_02',\n",
    " 'customer_industry_spend_03',\n",
    " 'customer_industry_spend_04',\n",
    " 'customer_industry_spend_05',\n",
    " 'customer_merchant_03',\n",
    " 'customer_profile_01',\n",
    " 'customer_profile_02',\n",
    " 'customer_profile_03',\n",
    " 'customer_profile_04',\n",
    " 'customer_spend_01',\n",
    " 'customer_spend_02',\n",
    " 'customer_spend_03',\n",
    " 'customer_spend_05',\n",
    " 'customer_spend_06',\n",
    " 'customer_spend_07',\n",
    " 'distance_04',\n",
    " 'distance_05',\n",
    " 'merchant_profile_02',\n",
    " 'merchant_profile_03',\n",
    " 'merchant_spend_01',\n",
    " 'merchant_spend_02',\n",
    " 'merchant_spend_03',\n",
    " 'merchant_spend_04',\n",
    " 'merchant_spend_05',\n",
    " 'merchant_spend_06',\n",
    " 'merchant_spend_07',\n",
    " 'merchant_spend_08',\n",
    " 'merchant_spend_09',\n",
    " 'merchant_spend_10']\n",
    "scaler = MinMaxScaler()\n",
    "data_clean[columns] = scaler.fit_transform(data_clean[columns])"
   ]
  },
  {
   "cell_type": "code",
   "execution_count": 9,
   "metadata": {},
   "outputs": [
    {
     "data": {
      "text/html": [
       "<div>\n",
       "<style scoped>\n",
       "    .dataframe tbody tr th:only-of-type {\n",
       "        vertical-align: middle;\n",
       "    }\n",
       "\n",
       "    .dataframe tbody tr th {\n",
       "        vertical-align: top;\n",
       "    }\n",
       "\n",
       "    .dataframe thead th {\n",
       "        text-align: right;\n",
       "    }\n",
       "</style>\n",
       "<table border=\"1\" class=\"dataframe\">\n",
       "  <thead>\n",
       "    <tr style=\"text-align: right;\">\n",
       "      <th></th>\n",
       "      <th>ind_recommended</th>\n",
       "      <th>activation</th>\n",
       "      <th>customer_spend_01</th>\n",
       "      <th>customer_industry_spend_01</th>\n",
       "      <th>customer_industry_spend_02</th>\n",
       "      <th>customer_industry_spend_03</th>\n",
       "      <th>customer_industry_spend_04</th>\n",
       "      <th>customer_industry_spend_05</th>\n",
       "      <th>customer_spend_02</th>\n",
       "      <th>customer_spend_03</th>\n",
       "      <th>...</th>\n",
       "      <th>merchant_spend_09</th>\n",
       "      <th>merchant_profile_03</th>\n",
       "      <th>customer_digital_activity_01</th>\n",
       "      <th>merchant_spend_10</th>\n",
       "      <th>customer_profile_03</th>\n",
       "      <th>customer_digital_activity_02</th>\n",
       "      <th>customer_profile_04</th>\n",
       "      <th>distance_05</th>\n",
       "      <th>customer</th>\n",
       "      <th>merchant</th>\n",
       "    </tr>\n",
       "  </thead>\n",
       "  <tbody>\n",
       "    <tr>\n",
       "      <th>4</th>\n",
       "      <td>1</td>\n",
       "      <td>0</td>\n",
       "      <td>0.001801</td>\n",
       "      <td>0.000000</td>\n",
       "      <td>0.000000</td>\n",
       "      <td>0.000000</td>\n",
       "      <td>0.000000</td>\n",
       "      <td>0.000000</td>\n",
       "      <td>0.032895</td>\n",
       "      <td>0.008351</td>\n",
       "      <td>...</td>\n",
       "      <td>0.010509</td>\n",
       "      <td>0.003123</td>\n",
       "      <td>0.754386</td>\n",
       "      <td>0.000106</td>\n",
       "      <td>0.777942</td>\n",
       "      <td>0.005442</td>\n",
       "      <td>0.149410</td>\n",
       "      <td>0.000695</td>\n",
       "      <td>210107</td>\n",
       "      <td>536004</td>\n",
       "    </tr>\n",
       "    <tr>\n",
       "      <th>13</th>\n",
       "      <td>1</td>\n",
       "      <td>0</td>\n",
       "      <td>0.000483</td>\n",
       "      <td>0.000000</td>\n",
       "      <td>0.000000</td>\n",
       "      <td>0.000000</td>\n",
       "      <td>0.000000</td>\n",
       "      <td>0.000000</td>\n",
       "      <td>0.026316</td>\n",
       "      <td>0.027140</td>\n",
       "      <td>...</td>\n",
       "      <td>0.059211</td>\n",
       "      <td>0.013707</td>\n",
       "      <td>0.368421</td>\n",
       "      <td>0.000596</td>\n",
       "      <td>0.177790</td>\n",
       "      <td>0.000786</td>\n",
       "      <td>0.589777</td>\n",
       "      <td>0.003807</td>\n",
       "      <td>394885</td>\n",
       "      <td>58470</td>\n",
       "    </tr>\n",
       "    <tr>\n",
       "      <th>21</th>\n",
       "      <td>1</td>\n",
       "      <td>0</td>\n",
       "      <td>0.006521</td>\n",
       "      <td>0.000000</td>\n",
       "      <td>0.000000</td>\n",
       "      <td>0.000000</td>\n",
       "      <td>0.000000</td>\n",
       "      <td>0.000000</td>\n",
       "      <td>0.026316</td>\n",
       "      <td>0.005219</td>\n",
       "      <td>...</td>\n",
       "      <td>0.243067</td>\n",
       "      <td>0.140260</td>\n",
       "      <td>0.350000</td>\n",
       "      <td>0.000047</td>\n",
       "      <td>0.442310</td>\n",
       "      <td>0.001995</td>\n",
       "      <td>0.382700</td>\n",
       "      <td>0.000391</td>\n",
       "      <td>94399</td>\n",
       "      <td>431332</td>\n",
       "    </tr>\n",
       "    <tr>\n",
       "      <th>22</th>\n",
       "      <td>1</td>\n",
       "      <td>0</td>\n",
       "      <td>0.000098</td>\n",
       "      <td>0.000617</td>\n",
       "      <td>0.004602</td>\n",
       "      <td>0.000074</td>\n",
       "      <td>0.000614</td>\n",
       "      <td>0.027778</td>\n",
       "      <td>0.046053</td>\n",
       "      <td>0.039666</td>\n",
       "      <td>...</td>\n",
       "      <td>0.223075</td>\n",
       "      <td>0.338886</td>\n",
       "      <td>0.222222</td>\n",
       "      <td>0.000099</td>\n",
       "      <td>0.998732</td>\n",
       "      <td>0.000846</td>\n",
       "      <td>0.338139</td>\n",
       "      <td>0.007323</td>\n",
       "      <td>120246</td>\n",
       "      <td>298378</td>\n",
       "    </tr>\n",
       "    <tr>\n",
       "      <th>37</th>\n",
       "      <td>1</td>\n",
       "      <td>0</td>\n",
       "      <td>0.000171</td>\n",
       "      <td>0.000145</td>\n",
       "      <td>0.002630</td>\n",
       "      <td>0.000020</td>\n",
       "      <td>0.000696</td>\n",
       "      <td>0.041667</td>\n",
       "      <td>0.098684</td>\n",
       "      <td>0.156576</td>\n",
       "      <td>...</td>\n",
       "      <td>0.000310</td>\n",
       "      <td>0.006742</td>\n",
       "      <td>0.025641</td>\n",
       "      <td>0.010713</td>\n",
       "      <td>0.579183</td>\n",
       "      <td>0.000181</td>\n",
       "      <td>0.342071</td>\n",
       "      <td>0.001329</td>\n",
       "      <td>113611</td>\n",
       "      <td>159357</td>\n",
       "    </tr>\n",
       "  </tbody>\n",
       "</table>\n",
       "<p>5 rows × 39 columns</p>\n",
       "</div>"
      ],
      "text/plain": [
       "    ind_recommended  activation  customer_spend_01   \n",
       "4                 1           0           0.001801  \\\n",
       "13                1           0           0.000483   \n",
       "21                1           0           0.006521   \n",
       "22                1           0           0.000098   \n",
       "37                1           0           0.000171   \n",
       "\n",
       "    customer_industry_spend_01  customer_industry_spend_02   \n",
       "4                     0.000000                    0.000000  \\\n",
       "13                    0.000000                    0.000000   \n",
       "21                    0.000000                    0.000000   \n",
       "22                    0.000617                    0.004602   \n",
       "37                    0.000145                    0.002630   \n",
       "\n",
       "    customer_industry_spend_03  customer_industry_spend_04   \n",
       "4                     0.000000                    0.000000  \\\n",
       "13                    0.000000                    0.000000   \n",
       "21                    0.000000                    0.000000   \n",
       "22                    0.000074                    0.000614   \n",
       "37                    0.000020                    0.000696   \n",
       "\n",
       "    customer_industry_spend_05  customer_spend_02  customer_spend_03  ...   \n",
       "4                     0.000000           0.032895           0.008351  ...  \\\n",
       "13                    0.000000           0.026316           0.027140  ...   \n",
       "21                    0.000000           0.026316           0.005219  ...   \n",
       "22                    0.027778           0.046053           0.039666  ...   \n",
       "37                    0.041667           0.098684           0.156576  ...   \n",
       "\n",
       "    merchant_spend_09  merchant_profile_03  customer_digital_activity_01   \n",
       "4            0.010509             0.003123                      0.754386  \\\n",
       "13           0.059211             0.013707                      0.368421   \n",
       "21           0.243067             0.140260                      0.350000   \n",
       "22           0.223075             0.338886                      0.222222   \n",
       "37           0.000310             0.006742                      0.025641   \n",
       "\n",
       "    merchant_spend_10  customer_profile_03  customer_digital_activity_02   \n",
       "4            0.000106             0.777942                      0.005442  \\\n",
       "13           0.000596             0.177790                      0.000786   \n",
       "21           0.000047             0.442310                      0.001995   \n",
       "22           0.000099             0.998732                      0.000846   \n",
       "37           0.010713             0.579183                      0.000181   \n",
       "\n",
       "    customer_profile_04  distance_05  customer  merchant  \n",
       "4              0.149410     0.000695    210107    536004  \n",
       "13             0.589777     0.003807    394885     58470  \n",
       "21             0.382700     0.000391     94399    431332  \n",
       "22             0.338139     0.007323    120246    298378  \n",
       "37             0.342071     0.001329    113611    159357  \n",
       "\n",
       "[5 rows x 39 columns]"
      ]
     },
     "execution_count": 9,
     "metadata": {},
     "output_type": "execute_result"
    }
   ],
   "source": [
    "data_recommended = data_clean[data_clean['ind_recommended'] == 0]\n",
    "data_recommended.head()\n",
    "\n",
    "data_not_recommended = data_clean[data_clean['ind_recommended'] == 1]\n",
    "data_not_recommended.head()"
   ]
  },
  {
   "attachments": {},
   "cell_type": "markdown",
   "metadata": {},
   "source": [
    "# Recommended"
   ]
  },
  {
   "cell_type": "code",
   "execution_count": 10,
   "metadata": {},
   "outputs": [],
   "source": [
    "data_rec_no_act = data_recommended[data_recommended['activation'] == 0]\n",
    "data_rec_act = data_recommended[data_recommended['activation'] == 1]\n",
    "\n",
    "data_rec_no_act_2 = data_rec_no_act.sample(n=60173, random_state=8)\n",
    "\n",
    "data_rec = pd.concat([data_rec_act, data_rec_no_act_2])\n",
    "\n"
   ]
  },
  {
   "cell_type": "code",
   "execution_count": 11,
   "metadata": {},
   "outputs": [],
   "source": [
    "x_recommended = data_rec.iloc[:, 2:]\n",
    "y_recommended = data_rec['activation']"
   ]
  },
  {
   "cell_type": "code",
   "execution_count": 12,
   "metadata": {},
   "outputs": [],
   "source": [
    "x_train_rec, x_test_rec, y_train_rec, y_test_rec = train_test_split(x_recommended, y_recommended, test_size=0.2, random_state=42)"
   ]
  },
  {
   "cell_type": "code",
   "execution_count": 134,
   "metadata": {},
   "outputs": [
    {
     "data": {
      "text/html": [
       "<style>#sk-container-id-11 {color: black;}#sk-container-id-11 pre{padding: 0;}#sk-container-id-11 div.sk-toggleable {background-color: white;}#sk-container-id-11 label.sk-toggleable__label {cursor: pointer;display: block;width: 100%;margin-bottom: 0;padding: 0.3em;box-sizing: border-box;text-align: center;}#sk-container-id-11 label.sk-toggleable__label-arrow:before {content: \"▸\";float: left;margin-right: 0.25em;color: #696969;}#sk-container-id-11 label.sk-toggleable__label-arrow:hover:before {color: black;}#sk-container-id-11 div.sk-estimator:hover label.sk-toggleable__label-arrow:before {color: black;}#sk-container-id-11 div.sk-toggleable__content {max-height: 0;max-width: 0;overflow: hidden;text-align: left;background-color: #f0f8ff;}#sk-container-id-11 div.sk-toggleable__content pre {margin: 0.2em;color: black;border-radius: 0.25em;background-color: #f0f8ff;}#sk-container-id-11 input.sk-toggleable__control:checked~div.sk-toggleable__content {max-height: 200px;max-width: 100%;overflow: auto;}#sk-container-id-11 input.sk-toggleable__control:checked~label.sk-toggleable__label-arrow:before {content: \"▾\";}#sk-container-id-11 div.sk-estimator input.sk-toggleable__control:checked~label.sk-toggleable__label {background-color: #d4ebff;}#sk-container-id-11 div.sk-label input.sk-toggleable__control:checked~label.sk-toggleable__label {background-color: #d4ebff;}#sk-container-id-11 input.sk-hidden--visually {border: 0;clip: rect(1px 1px 1px 1px);clip: rect(1px, 1px, 1px, 1px);height: 1px;margin: -1px;overflow: hidden;padding: 0;position: absolute;width: 1px;}#sk-container-id-11 div.sk-estimator {font-family: monospace;background-color: #f0f8ff;border: 1px dotted black;border-radius: 0.25em;box-sizing: border-box;margin-bottom: 0.5em;}#sk-container-id-11 div.sk-estimator:hover {background-color: #d4ebff;}#sk-container-id-11 div.sk-parallel-item::after {content: \"\";width: 100%;border-bottom: 1px solid gray;flex-grow: 1;}#sk-container-id-11 div.sk-label:hover label.sk-toggleable__label {background-color: #d4ebff;}#sk-container-id-11 div.sk-serial::before {content: \"\";position: absolute;border-left: 1px solid gray;box-sizing: border-box;top: 0;bottom: 0;left: 50%;z-index: 0;}#sk-container-id-11 div.sk-serial {display: flex;flex-direction: column;align-items: center;background-color: white;padding-right: 0.2em;padding-left: 0.2em;position: relative;}#sk-container-id-11 div.sk-item {position: relative;z-index: 1;}#sk-container-id-11 div.sk-parallel {display: flex;align-items: stretch;justify-content: center;background-color: white;position: relative;}#sk-container-id-11 div.sk-item::before, #sk-container-id-11 div.sk-parallel-item::before {content: \"\";position: absolute;border-left: 1px solid gray;box-sizing: border-box;top: 0;bottom: 0;left: 50%;z-index: -1;}#sk-container-id-11 div.sk-parallel-item {display: flex;flex-direction: column;z-index: 1;position: relative;background-color: white;}#sk-container-id-11 div.sk-parallel-item:first-child::after {align-self: flex-end;width: 50%;}#sk-container-id-11 div.sk-parallel-item:last-child::after {align-self: flex-start;width: 50%;}#sk-container-id-11 div.sk-parallel-item:only-child::after {width: 0;}#sk-container-id-11 div.sk-dashed-wrapped {border: 1px dashed gray;margin: 0 0.4em 0.5em 0.4em;box-sizing: border-box;padding-bottom: 0.4em;background-color: white;}#sk-container-id-11 div.sk-label label {font-family: monospace;font-weight: bold;display: inline-block;line-height: 1.2em;}#sk-container-id-11 div.sk-label-container {text-align: center;}#sk-container-id-11 div.sk-container {/* jupyter's `normalize.less` sets `[hidden] { display: none; }` but bootstrap.min.css set `[hidden] { display: none !important; }` so we also need the `!important` here to be able to override the default hidden behavior on the sphinx rendered scikit-learn.org. See: https://github.com/scikit-learn/scikit-learn/issues/21755 */display: inline-block !important;position: relative;}#sk-container-id-11 div.sk-text-repr-fallback {display: none;}</style><div id=\"sk-container-id-11\" class=\"sk-top-container\"><div class=\"sk-text-repr-fallback\"><pre>LogisticRegression(max_iter=200)</pre><b>In a Jupyter environment, please rerun this cell to show the HTML representation or trust the notebook. <br />On GitHub, the HTML representation is unable to render, please try loading this page with nbviewer.org.</b></div><div class=\"sk-container\" hidden><div class=\"sk-item\"><div class=\"sk-estimator sk-toggleable\"><input class=\"sk-toggleable__control sk-hidden--visually\" id=\"sk-estimator-id-11\" type=\"checkbox\" checked><label for=\"sk-estimator-id-11\" class=\"sk-toggleable__label sk-toggleable__label-arrow\">LogisticRegression</label><div class=\"sk-toggleable__content\"><pre>LogisticRegression(max_iter=200)</pre></div></div></div></div></div>"
      ],
      "text/plain": [
       "LogisticRegression(max_iter=200)"
      ]
     },
     "execution_count": 134,
     "metadata": {},
     "output_type": "execute_result"
    }
   ],
   "source": [
    "model = LogisticRegression(max_iter=200)\n",
    "model.fit(x_train_rec[columns], y_train_rec)\n"
   ]
  },
  {
   "cell_type": "code",
   "execution_count": 135,
   "metadata": {},
   "outputs": [
    {
     "data": {
      "text/plain": [
       "array([0, 1, 0, ..., 1, 1, 1])"
      ]
     },
     "execution_count": 135,
     "metadata": {},
     "output_type": "execute_result"
    }
   ],
   "source": [
    "y_pred = model.predict(x_test_rec[columns])\n",
    "y_pred_prob = model.predict_proba(x_test_rec[columns])[:, 1]\n",
    "\n",
    "y_pred"
   ]
  },
  {
   "cell_type": "code",
   "execution_count": 136,
   "metadata": {},
   "outputs": [
    {
     "name": "stdout",
     "output_type": "stream",
     "text": [
      "Accuracy: 0.690\n",
      "Precision: 0.694\n",
      "Recall: 0.690\n"
     ]
    }
   ],
   "source": [
    "# Evaluate on the test set with the best hyperparameters\n",
    "test_accuracy = accuracy_score(y_test_rec, y_pred)\n",
    "precision_test = precision_score(y_test_rec, y_pred, average='weighted')\n",
    "recall_test = recall_score(y_test_rec, y_pred, average='weighted')\n",
    "print('Accuracy: %.3f' % test_accuracy)\n",
    "print('Precision: %.3f' % precision_test)\n",
    "print('Recall: %.3f' % recall_test)"
   ]
  },
  {
   "cell_type": "code",
   "execution_count": 137,
   "metadata": {},
   "outputs": [
    {
     "name": "stdout",
     "output_type": "stream",
     "text": [
      "Confusion matrix:\n",
      "\n",
      "activation     0     1\n",
      "row_0                 \n",
      "0           9075  4561\n",
      "1           2902  7532 \n",
      "\n"
     ]
    }
   ],
   "source": [
    "print('Confusion matrix:\\n')\n",
    "print(pd.crosstab(y_pred, y_test_rec), '\\n')"
   ]
  },
  {
   "cell_type": "code",
   "execution_count": 13,
   "metadata": {},
   "outputs": [
    {
     "data": {
      "text/plain": [
       "<function matplotlib.pyplot.show(close=None, block=None)>"
      ]
     },
     "execution_count": 13,
     "metadata": {},
     "output_type": "execute_result"
    },
    {
     "data": {
      "image/png": "[encoded data removed]",
      "text/plain": [
       "<Figure size 640x480 with 1 Axes>"
      ]
     },
     "metadata": {},
     "output_type": "display_data"
    }
   ],
   "source": [
    "misclassification = []\n",
    "for k in range(50): #Trying k = 1 to 50\n",
    "    model = skl_nb.KNeighborsClassifier(n_neighbors = k+1)\n",
    "    model.fit(x_train_rec[columns], y_train_rec)\n",
    "    prediction = model.predict(x_test_rec[columns])\n",
    "    misclassification.append(np.mean(prediction != y_test_rec))\n",
    "\n",
    "K = np.linspace(1, 50, 50)\n",
    "plt.plot(K, misclassification, '.')\n",
    "plt.ylabel('Misclassification')\n",
    "plt.xlabel('Number of neighbors')\n",
    "plt.show"
   ]
  },
  {
   "cell_type": "code",
   "execution_count": 14,
   "metadata": {},
   "outputs": [
    {
     "name": "stdout",
     "output_type": "stream",
     "text": [
      "Confusion matrix:\n",
      "\n",
      "activation     0     1\n",
      "row_0                 \n",
      "0           9088  2426\n",
      "1           2889  9667 \n",
      "\n"
     ]
    }
   ],
   "source": [
    "# Train model with k = 15\n",
    "model_knn = skl_nb.KNeighborsClassifier(n_neighbors = 15)\n",
    "model_knn.fit(x_train_rec[columns], y_train_rec)\n",
    "\n",
    "# Prediction for model with k = 10\n",
    "prediction_knn = model_knn.predict(x_test_rec[columns])\n",
    "\n",
    "print('Confusion matrix:\\n')\n",
    "print(pd.crosstab(prediction_knn, y_test_rec), '\\n')"
   ]
  },
  {
   "cell_type": "code",
   "execution_count": 15,
   "metadata": {},
   "outputs": [
    {
     "name": "stdout",
     "output_type": "stream",
     "text": [
      "Accuracy: 0.779\n",
      "Precision: 0.780\n",
      "Recall: 0.779\n"
     ]
    }
   ],
   "source": [
    "test_accuracy = accuracy_score(y_test_rec, prediction_knn)\n",
    "precision_test = precision_score(y_test_rec, prediction_knn, average='weighted')\n",
    "recall_test = recall_score(y_test_rec, prediction_knn, average='weighted')\n",
    "print('Accuracy: %.3f' % test_accuracy)\n",
    "print('Precision: %.3f' % precision_test)\n",
    "print('Recall: %.3f' % recall_test)"
   ]
  },
  {
   "attachments": {},
   "cell_type": "markdown",
   "metadata": {},
   "source": [
    "# Not Recommended"
   ]
  },
  {
   "cell_type": "code",
   "execution_count": 16,
   "metadata": {},
   "outputs": [],
   "source": [
    "data_no_rec_no_act = data_not_recommended[data_not_recommended['activation'] == 0]\n",
    "data_no_rec_act = data_not_recommended[data_not_recommended['activation'] == 1]\n",
    "\n",
    "data_no_rec_no_act_2 = data_no_rec_no_act.sample(n=9843, random_state=8)\n",
    "\n",
    "data_no_rec = pd.concat([data_no_rec_act, data_no_rec_no_act_2])"
   ]
  },
  {
   "cell_type": "code",
   "execution_count": 17,
   "metadata": {},
   "outputs": [],
   "source": [
    "x_not_recommended = data_no_rec.iloc[:, 2:]\n",
    "y_not_recommended = data_no_rec['activation']"
   ]
  },
  {
   "cell_type": "code",
   "execution_count": 18,
   "metadata": {},
   "outputs": [],
   "source": [
    "x_train_no_rec, x_test_no_rec, y_train_no_rec, y_test_no_rec = train_test_split(x_not_recommended, y_not_recommended, test_size=0.4, random_state=42)"
   ]
  },
  {
   "cell_type": "code",
   "execution_count": 19,
   "metadata": {},
   "outputs": [
    {
     "data": {
      "text/html": [
       "<style>#sk-container-id-1 {color: black;}#sk-container-id-1 pre{padding: 0;}#sk-container-id-1 div.sk-toggleable {background-color: white;}#sk-container-id-1 label.sk-toggleable__label {cursor: pointer;display: block;width: 100%;margin-bottom: 0;padding: 0.3em;box-sizing: border-box;text-align: center;}#sk-container-id-1 label.sk-toggleable__label-arrow:before {content: \"▸\";float: left;margin-right: 0.25em;color: #696969;}#sk-container-id-1 label.sk-toggleable__label-arrow:hover:before {color: black;}#sk-container-id-1 div.sk-estimator:hover label.sk-toggleable__label-arrow:before {color: black;}#sk-container-id-1 div.sk-toggleable__content {max-height: 0;max-width: 0;overflow: hidden;text-align: left;background-color: #f0f8ff;}#sk-container-id-1 div.sk-toggleable__content pre {margin: 0.2em;color: black;border-radius: 0.25em;background-color: #f0f8ff;}#sk-container-id-1 input.sk-toggleable__control:checked~div.sk-toggleable__content {max-height: 200px;max-width: 100%;overflow: auto;}#sk-container-id-1 input.sk-toggleable__control:checked~label.sk-toggleable__label-arrow:before {content: \"▾\";}#sk-container-id-1 div.sk-estimator input.sk-toggleable__control:checked~label.sk-toggleable__label {background-color: #d4ebff;}#sk-container-id-1 div.sk-label input.sk-toggleable__control:checked~label.sk-toggleable__label {background-color: #d4ebff;}#sk-container-id-1 input.sk-hidden--visually {border: 0;clip: rect(1px 1px 1px 1px);clip: rect(1px, 1px, 1px, 1px);height: 1px;margin: -1px;overflow: hidden;padding: 0;position: absolute;width: 1px;}#sk-container-id-1 div.sk-estimator {font-family: monospace;background-color: #f0f8ff;border: 1px dotted black;border-radius: 0.25em;box-sizing: border-box;margin-bottom: 0.5em;}#sk-container-id-1 div.sk-estimator:hover {background-color: #d4ebff;}#sk-container-id-1 div.sk-parallel-item::after {content: \"\";width: 100%;border-bottom: 1px solid gray;flex-grow: 1;}#sk-container-id-1 div.sk-label:hover label.sk-toggleable__label {background-color: #d4ebff;}#sk-container-id-1 div.sk-serial::before {content: \"\";position: absolute;border-left: 1px solid gray;box-sizing: border-box;top: 0;bottom: 0;left: 50%;z-index: 0;}#sk-container-id-1 div.sk-serial {display: flex;flex-direction: column;align-items: center;background-color: white;padding-right: 0.2em;padding-left: 0.2em;position: relative;}#sk-container-id-1 div.sk-item {position: relative;z-index: 1;}#sk-container-id-1 div.sk-parallel {display: flex;align-items: stretch;justify-content: center;background-color: white;position: relative;}#sk-container-id-1 div.sk-item::before, #sk-container-id-1 div.sk-parallel-item::before {content: \"\";position: absolute;border-left: 1px solid gray;box-sizing: border-box;top: 0;bottom: 0;left: 50%;z-index: -1;}#sk-container-id-1 div.sk-parallel-item {display: flex;flex-direction: column;z-index: 1;position: relative;background-color: white;}#sk-container-id-1 div.sk-parallel-item:first-child::after {align-self: flex-end;width: 50%;}#sk-container-id-1 div.sk-parallel-item:last-child::after {align-self: flex-start;width: 50%;}#sk-container-id-1 div.sk-parallel-item:only-child::after {width: 0;}#sk-container-id-1 div.sk-dashed-wrapped {border: 1px dashed gray;margin: 0 0.4em 0.5em 0.4em;box-sizing: border-box;padding-bottom: 0.4em;background-color: white;}#sk-container-id-1 div.sk-label label {font-family: monospace;font-weight: bold;display: inline-block;line-height: 1.2em;}#sk-container-id-1 div.sk-label-container {text-align: center;}#sk-container-id-1 div.sk-container {/* jupyter's `normalize.less` sets `[hidden] { display: none; }` but bootstrap.min.css set `[hidden] { display: none !important; }` so we also need the `!important` here to be able to override the default hidden behavior on the sphinx rendered scikit-learn.org. See: https://github.com/scikit-learn/scikit-learn/issues/21755 */display: inline-block !important;position: relative;}#sk-container-id-1 div.sk-text-repr-fallback {display: none;}</style><div id=\"sk-container-id-1\" class=\"sk-top-container\"><div class=\"sk-text-repr-fallback\"><pre>LogisticRegression(max_iter=200)</pre><b>In a Jupyter environment, please rerun this cell to show the HTML representation or trust the notebook. <br />On GitHub, the HTML representation is unable to render, please try loading this page with nbviewer.org.</b></div><div class=\"sk-container\" hidden><div class=\"sk-item\"><div class=\"sk-estimator sk-toggleable\"><input class=\"sk-toggleable__control sk-hidden--visually\" id=\"sk-estimator-id-1\" type=\"checkbox\" checked><label for=\"sk-estimator-id-1\" class=\"sk-toggleable__label sk-toggleable__label-arrow\">LogisticRegression</label><div class=\"sk-toggleable__content\"><pre>LogisticRegression(max_iter=200)</pre></div></div></div></div></div>"
      ],
      "text/plain": [
       "LogisticRegression(max_iter=200)"
      ]
     },
     "execution_count": 19,
     "metadata": {},
     "output_type": "execute_result"
    }
   ],
   "source": [
    "no_rec_model = LogisticRegression(max_iter=200)\n",
    "no_rec_model.fit(x_train_no_rec[columns], y_train_no_rec)"
   ]
  },
  {
   "cell_type": "code",
   "execution_count": 35,
   "metadata": {},
   "outputs": [],
   "source": [
    "y_no_rec_pred = no_rec_model.predict(x_test_no_rec[columns])\n",
    "y_no_rec_pred_prob = no_rec_model.predict_proba(x_test_no_rec[columns])[:, 1]"
   ]
  },
  {
   "cell_type": "code",
   "execution_count": 36,
   "metadata": {},
   "outputs": [
    {
     "name": "stdout",
     "output_type": "stream",
     "text": [
      "Accuracy: 0.761\n",
      "Precision: 0.762\n",
      "Recall: 0.761\n"
     ]
    }
   ],
   "source": [
    "# Evaluate on the test set with the best hyperparameters\n",
    "no_rec_test_accuracy = accuracy_score(y_test_no_rec, y_no_rec_pred)\n",
    "no_rec_precision_test = precision_score(y_test_no_rec, y_no_rec_pred, average='weighted')\n",
    "no_rec_recall_test = recall_score(y_test_no_rec, y_no_rec_pred, average='weighted')\n",
    "print('Accuracy: %.3f' % no_rec_test_accuracy)\n",
    "print('Precision: %.3f' % no_rec_precision_test)\n",
    "print('Recall: %.3f' % no_rec_recall_test)"
   ]
  },
  {
   "cell_type": "code",
   "execution_count": 37,
   "metadata": {},
   "outputs": [
    {
     "name": "stdout",
     "output_type": "stream",
     "text": [
      "Confusion matrix:\n",
      "\n",
      "activation     0     1\n",
      "row_0                 \n",
      "0           2889   853\n",
      "1           1027  3106 \n",
      "\n"
     ]
    }
   ],
   "source": [
    "print('Confusion matrix:\\n')\n",
    "print(pd.crosstab(y_no_rec_pred, y_test_no_rec), '\\n')"
   ]
  },
  {
   "cell_type": "code",
   "execution_count": 20,
   "metadata": {},
   "outputs": [
    {
     "data": {
      "text/plain": [
       "<function matplotlib.pyplot.show(close=None, block=None)>"
      ]
     },
     "execution_count": 20,
     "metadata": {},
     "output_type": "execute_result"
    },
    {
     "data": {
      "image/png": "[encoded data removed]",
      "text/plain": [
       "<Figure size 640x480 with 1 Axes>"
      ]
     },
     "metadata": {},
     "output_type": "display_data"
    }
   ],
   "source": [
    "misclassification = []\n",
    "for k in range(50): #Trying k = 1 to 50\n",
    "    model = skl_nb.KNeighborsClassifier(n_neighbors = k+1)\n",
    "    model.fit(x_train_no_rec[columns], y_train_no_rec)\n",
    "    prediction = model.predict(x_test_no_rec[columns])\n",
    "    misclassification.append(np.mean(prediction != y_test_no_rec))\n",
    "\n",
    "K = np.linspace(1, 50, 50)\n",
    "plt.plot(K, misclassification, '.')\n",
    "plt.ylabel('Misclassification')\n",
    "plt.xlabel('Number of neighbors')\n",
    "plt.show"
   ]
  },
  {
   "cell_type": "code",
   "execution_count": 21,
   "metadata": {},
   "outputs": [
    {
     "name": "stdout",
     "output_type": "stream",
     "text": [
      "Confusion matrix:\n",
      "\n",
      "activation     0     1\n",
      "row_0                 \n",
      "0           2731   903\n",
      "1           1185  3056 \n",
      "\n"
     ]
    }
   ],
   "source": [
    "# Train model with k = 15\n",
    "no_rec_model_knn = skl_nb.KNeighborsClassifier(n_neighbors = 15)\n",
    "no_rec_model_knn.fit(x_train_no_rec[columns], y_train_no_rec)\n",
    "\n",
    "# Prediction for model with k = 10\n",
    "no_rec_prediction_knn = no_rec_model_knn.predict(x_test_no_rec[columns])\n",
    "\n",
    "print('Confusion matrix:\\n')\n",
    "print(pd.crosstab(no_rec_prediction_knn, y_test_no_rec), '\\n')"
   ]
  },
  {
   "cell_type": "code",
   "execution_count": 22,
   "metadata": {},
   "outputs": [
    {
     "name": "stdout",
     "output_type": "stream",
     "text": [
      "Accuracy: 0.735\n",
      "Precision: 0.736\n",
      "Recall: 0.735\n"
     ]
    }
   ],
   "source": [
    "test_accuracy = accuracy_score(y_test_no_rec, no_rec_prediction_knn)\n",
    "precision_test = precision_score(y_test_no_rec, no_rec_prediction_knn, average='weighted')\n",
    "recall_test = recall_score(y_test_no_rec, no_rec_prediction_knn, average='weighted')\n",
    "print('Accuracy: %.3f' % test_accuracy)\n",
    "print('Precision: %.3f' % precision_test)\n",
    "print('Recall: %.3f' % recall_test)"
   ]
  },
  {
   "attachments": {},
   "cell_type": "markdown",
   "metadata": {},
   "source": [
    "# Predictive Score"
   ]
  },
  {
   "cell_type": "code",
   "execution_count": 23,
   "metadata": {},
   "outputs": [
    {
     "ename": "",
     "evalue": "",
     "output_type": "error",
     "traceback": [
      "\u001b[1;31mCanceled future for execute_request message before replies were done"
     ]
    },
    {
     "ename": "",
     "evalue": "",
     "output_type": "error",
     "traceback": [
      "\u001b[1;31mThe Kernel crashed while executing code in the the current cell or a previous cell. Please review the code in the cell(s) to identify a possible cause of the failure. Click <a href='https://aka.ms/vscodeJupyterKernelCrash'>here</a> for more info. View Jupyter <a href='command:jupyter.viewOutput'>log</a> for further details."
     ]
    }
   ],
   "source": [
    "sample = data_clean.sample(n=50000, random_state=555)\n",
    "sample_x = data_clean.iloc[:, 2:]\n",
    "sample_y = data_clean['activation']\n",
    "\n",
    "m1 = model_knn.predict_proba(sample_x[columns])[:, 1]\n",
    "m2 = no_rec_model_knn.predict_proba(sample_x[columns])[:, 1]\n",
    "\n",
    "predictive_score = m1 - m2\n",
    "\n",
    "sample['predictive_score'] = predictive_score"
   ]
  },
  {
   "cell_type": "code",
   "execution_count": 109,
   "metadata": {},
   "outputs": [
    {
     "data": {
      "text/html": [
       "<div>\n",
       "<style scoped>\n",
       "    .dataframe tbody tr th:only-of-type {\n",
       "        vertical-align: middle;\n",
       "    }\n",
       "\n",
       "    .dataframe tbody tr th {\n",
       "        vertical-align: top;\n",
       "    }\n",
       "\n",
       "    .dataframe thead th {\n",
       "        text-align: right;\n",
       "    }\n",
       "</style>\n",
       "<table border=\"1\" class=\"dataframe\">\n",
       "  <thead>\n",
       "    <tr style=\"text-align: right;\">\n",
       "      <th></th>\n",
       "      <th>customer</th>\n",
       "      <th>merchant</th>\n",
       "      <th>predictive_score</th>\n",
       "    </tr>\n",
       "  </thead>\n",
       "  <tbody>\n",
       "    <tr>\n",
       "      <th>875328</th>\n",
       "      <td>364039</td>\n",
       "      <td>523191</td>\n",
       "      <td>-0.017806</td>\n",
       "    </tr>\n",
       "    <tr>\n",
       "      <th>816515</th>\n",
       "      <td>377709</td>\n",
       "      <td>418110</td>\n",
       "      <td>0.016255</td>\n",
       "    </tr>\n",
       "    <tr>\n",
       "      <th>537768</th>\n",
       "      <td>419168</td>\n",
       "      <td>255146</td>\n",
       "      <td>0.034835</td>\n",
       "    </tr>\n",
       "    <tr>\n",
       "      <th>577057</th>\n",
       "      <td>206833</td>\n",
       "      <td>28384</td>\n",
       "      <td>0.021084</td>\n",
       "    </tr>\n",
       "    <tr>\n",
       "      <th>4367657</th>\n",
       "      <td>416775</td>\n",
       "      <td>432824</td>\n",
       "      <td>0.033044</td>\n",
       "    </tr>\n",
       "    <tr>\n",
       "      <th>...</th>\n",
       "      <td>...</td>\n",
       "      <td>...</td>\n",
       "      <td>...</td>\n",
       "    </tr>\n",
       "    <tr>\n",
       "      <th>6724573</th>\n",
       "      <td>122370</td>\n",
       "      <td>153392</td>\n",
       "      <td>0.039894</td>\n",
       "    </tr>\n",
       "    <tr>\n",
       "      <th>2724370</th>\n",
       "      <td>411194</td>\n",
       "      <td>531308</td>\n",
       "      <td>0.000989</td>\n",
       "    </tr>\n",
       "    <tr>\n",
       "      <th>11949964</th>\n",
       "      <td>421615</td>\n",
       "      <td>564224</td>\n",
       "      <td>-0.016297</td>\n",
       "    </tr>\n",
       "    <tr>\n",
       "      <th>11407154</th>\n",
       "      <td>196562</td>\n",
       "      <td>337434</td>\n",
       "      <td>0.024961</td>\n",
       "    </tr>\n",
       "    <tr>\n",
       "      <th>9418854</th>\n",
       "      <td>184950</td>\n",
       "      <td>416550</td>\n",
       "      <td>-0.016768</td>\n",
       "    </tr>\n",
       "  </tbody>\n",
       "</table>\n",
       "<p>10000 rows × 3 columns</p>\n",
       "</div>"
      ],
      "text/plain": [
       "          customer  merchant  predictive_score\n",
       "875328      364039    523191         -0.017806\n",
       "816515      377709    418110          0.016255\n",
       "537768      419168    255146          0.034835\n",
       "577057      206833     28384          0.021084\n",
       "4367657     416775    432824          0.033044\n",
       "...            ...       ...               ...\n",
       "6724573     122370    153392          0.039894\n",
       "2724370     411194    531308          0.000989\n",
       "11949964    421615    564224         -0.016297\n",
       "11407154    196562    337434          0.024961\n",
       "9418854     184950    416550         -0.016768\n",
       "\n",
       "[10000 rows x 3 columns]"
      ]
     },
     "execution_count": 109,
     "metadata": {},
     "output_type": "execute_result"
    }
   ],
   "source": [
    "sample[['customer', 'merchant', 'predictive_score']]"
   ]
  },
  {
   "cell_type": "code",
   "execution_count": 110,
   "metadata": {},
   "outputs": [],
   "source": [
    "eval = sample[['customer', 'merchant', 'predictive_score', 'ind_recommended', 'activation']]"
   ]
  },
  {
   "attachments": {},
   "cell_type": "markdown",
   "metadata": {},
   "source": [
    "# Evaluation\n"
   ]
  },
  {
   "cell_type": "code",
   "execution_count": 111,
   "metadata": {},
   "outputs": [],
   "source": [
    "### Scoring function for participating teams :\n",
    "def incr_act_top10(input_df: pd.DataFrame,\n",
    "                   pred_col: str,\n",
    "                   cm_key='customer',\n",
    "                   treated_col='ind_recommended',\n",
    "                   actual_col='activation'):\n",
    "    '''\n",
    "    Function that returns the incremental activation score for the AMEX Singapore Hackathon 2024\n",
    "\n",
    "    input_df : pandas Dataframe which has customer, ind_recommended, activation and pred_col\n",
    "    pred_col : name of your prediction score variable\n",
    "    cm_key : customer unique ID (do not change)\n",
    "    treated_col : indicator variable whether a merchant was recommended\n",
    "    actual_col : whether a CM had transacted at a given merchant (target variable)\n",
    "\n",
    "    Returns - incremental activation\n",
    "    '''\n",
    "    \n",
    "  #for correcting variable types\n",
    "    input_df[[treated_col, actual_col, pred_col]] = input_df[[treated_col, actual_col, pred_col]].apply(pd.to_numeric, errors='coerce')\n",
    "  \n",
    "    input_df['rank_per_cm1'] = input_df.groupby(cm_key)[pred_col].rank(method='first', ascending=False)\n",
    "    \n",
    "    input_df = input_df.loc[input_df.rank_per_cm1 <= 10,:]\n",
    "    \n",
    "    agg_df = input_df.groupby(treated_col,as_index=False).agg({actual_col:'mean'})\n",
    "    agg_df.columns = [treated_col,'avg_30d_act']\n",
    "    \n",
    "    print(agg_df)\n",
    "    recommended_avg_30d_act = float(agg_df.loc[agg_df[treated_col]==1,'avg_30d_act'])\n",
    "    not_recommended_avg_30d_act = float(agg_df.loc[agg_df[treated_col]==0,'avg_30d_act'])\n",
    "    \n",
    "  \n",
    "    return (recommended_avg_30d_act-not_recommended_avg_30d_act)\n",
    "  \n",
    "# example usage\n",
    "# incr_act_top_10(input_df = my_test_pd_df, pred_col = 'prediction_score')"
   ]
  },
  {
   "cell_type": "code",
   "execution_count": 113,
   "metadata": {},
   "outputs": [
    {
     "name": "stdout",
     "output_type": "stream",
     "text": [
      "   ind_recommended  avg_30d_act\n",
      "0                0     0.006420\n",
      "1                1     0.007048\n"
     ]
    },
    {
     "name": "stderr",
     "output_type": "stream",
     "text": [
      "/var/folders/xx/r8ly5z917sl1cyljnn77j7z00000gn/T/ipykernel_69049/104884808.py:20: SettingWithCopyWarning: \n",
      "A value is trying to be set on a copy of a slice from a DataFrame.\n",
      "Try using .loc[row_indexer,col_indexer] = value instead\n",
      "\n",
      "See the caveats in the documentation: https://pandas.pydata.org/pandas-docs/stable/user_guide/indexing.html#returning-a-view-versus-a-copy\n",
      "  input_df[[treated_col, actual_col, pred_col]] = input_df[[treated_col, actual_col, pred_col]].apply(pd.to_numeric, errors='coerce')\n",
      "/var/folders/xx/r8ly5z917sl1cyljnn77j7z00000gn/T/ipykernel_69049/104884808.py:22: SettingWithCopyWarning: \n",
      "A value is trying to be set on a copy of a slice from a DataFrame.\n",
      "Try using .loc[row_indexer,col_indexer] = value instead\n",
      "\n",
      "See the caveats in the documentation: https://pandas.pydata.org/pandas-docs/stable/user_guide/indexing.html#returning-a-view-versus-a-copy\n",
      "  input_df['rank_per_cm1'] = input_df.groupby(cm_key)[pred_col].rank(method='first', ascending=False)\n",
      "/var/folders/xx/r8ly5z917sl1cyljnn77j7z00000gn/T/ipykernel_69049/104884808.py:30: FutureWarning: Calling float on a single element Series is deprecated and will raise a TypeError in the future. Use float(ser.iloc[0]) instead\n",
      "  recommended_avg_30d_act = float(agg_df.loc[agg_df[treated_col]==1,'avg_30d_act'])\n",
      "/var/folders/xx/r8ly5z917sl1cyljnn77j7z00000gn/T/ipykernel_69049/104884808.py:31: FutureWarning: Calling float on a single element Series is deprecated and will raise a TypeError in the future. Use float(ser.iloc[0]) instead\n",
      "  not_recommended_avg_30d_act = float(agg_df.loc[agg_df[treated_col]==0,'avg_30d_act'])\n"
     ]
    },
    {
     "data": {
      "text/plain": [
       "0.0006279585082363112"
      ]
     },
     "execution_count": 113,
     "metadata": {},
     "output_type": "execute_result"
    }
   ],
   "source": [
    "\n",
    "incr_act_top10(input_df = eval, pred_col = 'predictive_score')"
   ]
  }
 ],
 "metadata": {
  "kernelspec": {
   "display_name": "Python 3",
   "language": "python",
   "name": "python3"
  },
  "language_info": {
   "codemirror_mode": {
    "name": "ipython",
    "version": 3
   },
   "file_extension": ".py",
   "mimetype": "text/x-python",
   "name": "python",
   "nbconvert_exporter": "python",
   "pygments_lexer": "ipython3",
   "version": "3.10.11"
  }
 },
 "nbformat": 4,
 "nbformat_minor": 2
}
